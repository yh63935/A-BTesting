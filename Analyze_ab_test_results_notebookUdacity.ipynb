{
 "cells": [
  {
   "cell_type": "markdown",
   "metadata": {},
   "source": [
    "## Analyze A/B Test Results\n",
    "\n",
    "This project will assure you have mastered the subjects covered in the statistics lessons.  The hope is to have this project be as comprehensive of these topics as possible.  Good luck!\n",
    "\n",
    "## Table of Contents\n",
    "- [Introduction](#intro)\n",
    "- [Part I - Probability](#probability)\n",
    "- [Part II - A/B Test](#ab_test)\n",
    "- [Part III - Regression](#regression)\n",
    "\n",
    "\n",
    "<a id='intro'></a>\n",
    "### Introduction\n",
    "\n",
    "A/B tests are very commonly performed by data analysts and data scientists.  It is important that you get some practice working with the difficulties of these \n",
    "\n",
    "For this project, you will be working to understand the results of an A/B test run by an e-commerce website.  Your goal is to work through this notebook to help the company understand if they should implement the new page, keep the old page, or perhaps run the experiment longer to make their decision.\n",
    "\n",
    "**As you work through this notebook, follow along in the classroom and answer the corresponding quiz questions associated with each question.** The labels for each classroom concept are provided for each question.  This will assure you are on the right track as you work through the project, and you can feel more confident in your final submission meeting the criteria.  As a final check, assure you meet all the criteria on the [RUBRIC](https://review.udacity.com/#!/projects/37e27304-ad47-4eb0-a1ab-8c12f60e43d0/rubric).\n",
    "\n",
    "<a id='probability'></a>\n",
    "#### Part I - Probability\n",
    "\n",
    "To get started, let's import our libraries."
   ]
  },
  {
   "cell_type": "code",
   "execution_count": 108,
   "metadata": {},
   "outputs": [],
   "source": [
    "import pandas as pd\n",
    "import numpy as np\n",
    "import random\n",
    "import matplotlib.pyplot as plt\n",
    "%matplotlib inline\n",
    "#We are setting the seed to assure you get the same answers on quizzes as we set up\n",
    "random.seed(42)"
   ]
  },
  {
   "cell_type": "markdown",
   "metadata": {},
   "source": [
    "`1.` Now, read in the `ab_data.csv` data. Store it in `df`.  **Use your dataframe to answer the questions in Quiz 1 of the classroom.**\n",
    "\n",
    "a. Read in the dataset and take a look at the top few rows here:"
   ]
  },
  {
   "cell_type": "code",
   "execution_count": 109,
   "metadata": {
    "scrolled": true
   },
   "outputs": [
    {
     "data": {
      "text/html": [
       "<div>\n",
       "<style scoped>\n",
       "    .dataframe tbody tr th:only-of-type {\n",
       "        vertical-align: middle;\n",
       "    }\n",
       "\n",
       "    .dataframe tbody tr th {\n",
       "        vertical-align: top;\n",
       "    }\n",
       "\n",
       "    .dataframe thead th {\n",
       "        text-align: right;\n",
       "    }\n",
       "</style>\n",
       "<table border=\"1\" class=\"dataframe\">\n",
       "  <thead>\n",
       "    <tr style=\"text-align: right;\">\n",
       "      <th></th>\n",
       "      <th>user_id</th>\n",
       "      <th>timestamp</th>\n",
       "      <th>group</th>\n",
       "      <th>landing_page</th>\n",
       "      <th>converted</th>\n",
       "    </tr>\n",
       "  </thead>\n",
       "  <tbody>\n",
       "    <tr>\n",
       "      <th>0</th>\n",
       "      <td>851104</td>\n",
       "      <td>2017-01-21 22:11:48.556739</td>\n",
       "      <td>control</td>\n",
       "      <td>old_page</td>\n",
       "      <td>0</td>\n",
       "    </tr>\n",
       "    <tr>\n",
       "      <th>1</th>\n",
       "      <td>804228</td>\n",
       "      <td>2017-01-12 08:01:45.159739</td>\n",
       "      <td>control</td>\n",
       "      <td>old_page</td>\n",
       "      <td>0</td>\n",
       "    </tr>\n",
       "    <tr>\n",
       "      <th>2</th>\n",
       "      <td>661590</td>\n",
       "      <td>2017-01-11 16:55:06.154213</td>\n",
       "      <td>treatment</td>\n",
       "      <td>new_page</td>\n",
       "      <td>0</td>\n",
       "    </tr>\n",
       "    <tr>\n",
       "      <th>3</th>\n",
       "      <td>853541</td>\n",
       "      <td>2017-01-08 18:28:03.143765</td>\n",
       "      <td>treatment</td>\n",
       "      <td>new_page</td>\n",
       "      <td>0</td>\n",
       "    </tr>\n",
       "    <tr>\n",
       "      <th>4</th>\n",
       "      <td>864975</td>\n",
       "      <td>2017-01-21 01:52:26.210827</td>\n",
       "      <td>control</td>\n",
       "      <td>old_page</td>\n",
       "      <td>1</td>\n",
       "    </tr>\n",
       "  </tbody>\n",
       "</table>\n",
       "</div>"
      ],
      "text/plain": [
       "   user_id                   timestamp      group landing_page  converted\n",
       "0   851104  2017-01-21 22:11:48.556739    control     old_page          0\n",
       "1   804228  2017-01-12 08:01:45.159739    control     old_page          0\n",
       "2   661590  2017-01-11 16:55:06.154213  treatment     new_page          0\n",
       "3   853541  2017-01-08 18:28:03.143765  treatment     new_page          0\n",
       "4   864975  2017-01-21 01:52:26.210827    control     old_page          1"
      ]
     },
     "execution_count": 109,
     "metadata": {},
     "output_type": "execute_result"
    }
   ],
   "source": [
    "df = pd.read_csv('ab_data.csv')\n",
    "df.head()"
   ]
  },
  {
   "cell_type": "markdown",
   "metadata": {},
   "source": [
    "b. Use the below cell to find the number of rows in the dataset."
   ]
  },
  {
   "cell_type": "code",
   "execution_count": 110,
   "metadata": {},
   "outputs": [
    {
     "data": {
      "text/plain": [
       "294478"
      ]
     },
     "execution_count": 110,
     "metadata": {},
     "output_type": "execute_result"
    }
   ],
   "source": [
    "df.shape[0]"
   ]
  },
  {
   "cell_type": "markdown",
   "metadata": {},
   "source": [
    "c. The number of unique users in the dataset."
   ]
  },
  {
   "cell_type": "code",
   "execution_count": 111,
   "metadata": {},
   "outputs": [
    {
     "data": {
      "text/plain": [
       "user_id         290584\n",
       "timestamp       294478\n",
       "group                2\n",
       "landing_page         2\n",
       "converted            2\n",
       "dtype: int64"
      ]
     },
     "execution_count": 111,
     "metadata": {},
     "output_type": "execute_result"
    }
   ],
   "source": [
    "df.nunique()"
   ]
  },
  {
   "cell_type": "markdown",
   "metadata": {
    "collapsed": true
   },
   "source": [
    "d. The proportion of users converted."
   ]
  },
  {
   "cell_type": "code",
   "execution_count": 112,
   "metadata": {},
   "outputs": [
    {
     "data": {
      "text/plain": [
       "0.11965919355605512"
      ]
     },
     "execution_count": 112,
     "metadata": {},
     "output_type": "execute_result"
    }
   ],
   "source": [
    "(df['converted'] == 1).mean()"
   ]
  },
  {
   "cell_type": "markdown",
   "metadata": {
    "collapsed": true
   },
   "source": [
    "e. The number of times the `new_page` and `treatment` don't line up."
   ]
  },
  {
   "cell_type": "code",
   "execution_count": 113,
   "metadata": {},
   "outputs": [
    {
     "data": {
      "text/plain": [
       "3893"
      ]
     },
     "execution_count": 113,
     "metadata": {},
     "output_type": "execute_result"
    }
   ],
   "source": [
    "df[((df['group'] == 'treatment') != (df['landing_page'] == 'new_page'))].shape[0]"
   ]
  },
  {
   "cell_type": "markdown",
   "metadata": {},
   "source": [
    "f. Do any of the rows have missing values?"
   ]
  },
  {
   "cell_type": "code",
   "execution_count": 114,
   "metadata": {},
   "outputs": [
    {
     "data": {
      "text/plain": [
       "user_id         0\n",
       "timestamp       0\n",
       "group           0\n",
       "landing_page    0\n",
       "converted       0\n",
       "dtype: int64"
      ]
     },
     "execution_count": 114,
     "metadata": {},
     "output_type": "execute_result"
    }
   ],
   "source": [
    "df.isna().sum() "
   ]
  },
  {
   "cell_type": "markdown",
   "metadata": {},
   "source": [
    "None of the rows have any missing values. "
   ]
  },
  {
   "cell_type": "markdown",
   "metadata": {},
   "source": [
    "`2.` For the rows where **treatment** is not aligned with **new_page** or **control** is not aligned with **old_page**, we cannot be sure if this row truly received the new or old page.  Use **Quiz 2** in the classroom to provide how we should handle these rows.  \n",
    "\n",
    "a. Now use the answer to the quiz to create a new dataset that meets the specifications from the quiz.  Store your new dataframe in **df2**."
   ]
  },
  {
   "cell_type": "markdown",
   "metadata": {},
   "source": [
    "### Handling Unaligned Rows\n",
    "Since we aren't sure if the rows that do not align are accurate, we drop the unaligned rows. "
   ]
  },
  {
   "cell_type": "code",
   "execution_count": 115,
   "metadata": {},
   "outputs": [],
   "source": [
    "#drop unaligned rows\n",
    "unaligned_rows = df[(df['group'] == 'treatment') != (df['landing_page'] == 'new_page')].index\n",
    "df.drop(unaligned_rows, inplace = True)"
   ]
  },
  {
   "cell_type": "code",
   "execution_count": 116,
   "metadata": {},
   "outputs": [],
   "source": [
    "df2 = df.copy()"
   ]
  },
  {
   "cell_type": "code",
   "execution_count": 117,
   "metadata": {},
   "outputs": [
    {
     "data": {
      "text/html": [
       "<div>\n",
       "<style scoped>\n",
       "    .dataframe tbody tr th:only-of-type {\n",
       "        vertical-align: middle;\n",
       "    }\n",
       "\n",
       "    .dataframe tbody tr th {\n",
       "        vertical-align: top;\n",
       "    }\n",
       "\n",
       "    .dataframe thead th {\n",
       "        text-align: right;\n",
       "    }\n",
       "</style>\n",
       "<table border=\"1\" class=\"dataframe\">\n",
       "  <thead>\n",
       "    <tr style=\"text-align: right;\">\n",
       "      <th></th>\n",
       "      <th>user_id</th>\n",
       "      <th>timestamp</th>\n",
       "      <th>group</th>\n",
       "      <th>landing_page</th>\n",
       "      <th>converted</th>\n",
       "    </tr>\n",
       "  </thead>\n",
       "  <tbody>\n",
       "    <tr>\n",
       "      <th>0</th>\n",
       "      <td>851104</td>\n",
       "      <td>2017-01-21 22:11:48.556739</td>\n",
       "      <td>control</td>\n",
       "      <td>old_page</td>\n",
       "      <td>0</td>\n",
       "    </tr>\n",
       "    <tr>\n",
       "      <th>1</th>\n",
       "      <td>804228</td>\n",
       "      <td>2017-01-12 08:01:45.159739</td>\n",
       "      <td>control</td>\n",
       "      <td>old_page</td>\n",
       "      <td>0</td>\n",
       "    </tr>\n",
       "    <tr>\n",
       "      <th>2</th>\n",
       "      <td>661590</td>\n",
       "      <td>2017-01-11 16:55:06.154213</td>\n",
       "      <td>treatment</td>\n",
       "      <td>new_page</td>\n",
       "      <td>0</td>\n",
       "    </tr>\n",
       "    <tr>\n",
       "      <th>3</th>\n",
       "      <td>853541</td>\n",
       "      <td>2017-01-08 18:28:03.143765</td>\n",
       "      <td>treatment</td>\n",
       "      <td>new_page</td>\n",
       "      <td>0</td>\n",
       "    </tr>\n",
       "    <tr>\n",
       "      <th>4</th>\n",
       "      <td>864975</td>\n",
       "      <td>2017-01-21 01:52:26.210827</td>\n",
       "      <td>control</td>\n",
       "      <td>old_page</td>\n",
       "      <td>1</td>\n",
       "    </tr>\n",
       "    <tr>\n",
       "      <th>...</th>\n",
       "      <td>...</td>\n",
       "      <td>...</td>\n",
       "      <td>...</td>\n",
       "      <td>...</td>\n",
       "      <td>...</td>\n",
       "    </tr>\n",
       "    <tr>\n",
       "      <th>294473</th>\n",
       "      <td>751197</td>\n",
       "      <td>2017-01-03 22:28:38.630509</td>\n",
       "      <td>control</td>\n",
       "      <td>old_page</td>\n",
       "      <td>0</td>\n",
       "    </tr>\n",
       "    <tr>\n",
       "      <th>294474</th>\n",
       "      <td>945152</td>\n",
       "      <td>2017-01-12 00:51:57.078372</td>\n",
       "      <td>control</td>\n",
       "      <td>old_page</td>\n",
       "      <td>0</td>\n",
       "    </tr>\n",
       "    <tr>\n",
       "      <th>294475</th>\n",
       "      <td>734608</td>\n",
       "      <td>2017-01-22 11:45:03.439544</td>\n",
       "      <td>control</td>\n",
       "      <td>old_page</td>\n",
       "      <td>0</td>\n",
       "    </tr>\n",
       "    <tr>\n",
       "      <th>294476</th>\n",
       "      <td>697314</td>\n",
       "      <td>2017-01-15 01:20:28.957438</td>\n",
       "      <td>control</td>\n",
       "      <td>old_page</td>\n",
       "      <td>0</td>\n",
       "    </tr>\n",
       "    <tr>\n",
       "      <th>294477</th>\n",
       "      <td>715931</td>\n",
       "      <td>2017-01-16 12:40:24.467417</td>\n",
       "      <td>treatment</td>\n",
       "      <td>new_page</td>\n",
       "      <td>0</td>\n",
       "    </tr>\n",
       "  </tbody>\n",
       "</table>\n",
       "<p>290585 rows × 5 columns</p>\n",
       "</div>"
      ],
      "text/plain": [
       "        user_id                   timestamp      group landing_page  converted\n",
       "0        851104  2017-01-21 22:11:48.556739    control     old_page          0\n",
       "1        804228  2017-01-12 08:01:45.159739    control     old_page          0\n",
       "2        661590  2017-01-11 16:55:06.154213  treatment     new_page          0\n",
       "3        853541  2017-01-08 18:28:03.143765  treatment     new_page          0\n",
       "4        864975  2017-01-21 01:52:26.210827    control     old_page          1\n",
       "...         ...                         ...        ...          ...        ...\n",
       "294473   751197  2017-01-03 22:28:38.630509    control     old_page          0\n",
       "294474   945152  2017-01-12 00:51:57.078372    control     old_page          0\n",
       "294475   734608  2017-01-22 11:45:03.439544    control     old_page          0\n",
       "294476   697314  2017-01-15 01:20:28.957438    control     old_page          0\n",
       "294477   715931  2017-01-16 12:40:24.467417  treatment     new_page          0\n",
       "\n",
       "[290585 rows x 5 columns]"
      ]
     },
     "execution_count": 117,
     "metadata": {},
     "output_type": "execute_result"
    }
   ],
   "source": [
    "df2"
   ]
  },
  {
   "cell_type": "code",
   "execution_count": 118,
   "metadata": {},
   "outputs": [
    {
     "data": {
      "text/plain": [
       "0"
      ]
     },
     "execution_count": 118,
     "metadata": {},
     "output_type": "execute_result"
    }
   ],
   "source": [
    "# Double Check all of the correct rows were removed - this should be 0\n",
    "df2[((df2['group'] == 'treatment') == (df2['landing_page'] == 'new_page')) == False].shape[0]"
   ]
  },
  {
   "cell_type": "markdown",
   "metadata": {},
   "source": [
    "`3.` Use **df2** and the cells below to answer questions for **Quiz3** in the classroom."
   ]
  },
  {
   "cell_type": "markdown",
   "metadata": {},
   "source": [
    "a. How many unique **user_id**s are in **df2**?"
   ]
  },
  {
   "cell_type": "code",
   "execution_count": 119,
   "metadata": {},
   "outputs": [
    {
     "data": {
      "text/plain": [
       "user_id         290584\n",
       "timestamp       290585\n",
       "group                2\n",
       "landing_page         2\n",
       "converted            2\n",
       "dtype: int64"
      ]
     },
     "execution_count": 119,
     "metadata": {},
     "output_type": "execute_result"
    }
   ],
   "source": [
    "df2.nunique()"
   ]
  },
  {
   "cell_type": "markdown",
   "metadata": {},
   "source": [
    "There are 290584 unique user ids in df2 and 280585 unique rows for timestamp. This indicates that there may be a duplicate row for user id."
   ]
  },
  {
   "cell_type": "markdown",
   "metadata": {
    "collapsed": true
   },
   "source": [
    "b. There is one **user_id** repeated in **df2**.  What is it?"
   ]
  },
  {
   "cell_type": "markdown",
   "metadata": {},
   "source": [
    "To check if there is a duplicate in user id, I compared the user id count with the number of user id unique values. Since the count is greater than the number of unique ids, there is a duplicate."
   ]
  },
  {
   "cell_type": "code",
   "execution_count": 120,
   "metadata": {},
   "outputs": [
    {
     "data": {
      "text/plain": [
       "290585"
      ]
     },
     "execution_count": 120,
     "metadata": {},
     "output_type": "execute_result"
    }
   ],
   "source": [
    "df2.user_id.count()"
   ]
  },
  {
   "cell_type": "code",
   "execution_count": 121,
   "metadata": {},
   "outputs": [
    {
     "data": {
      "text/html": [
       "<div>\n",
       "<style scoped>\n",
       "    .dataframe tbody tr th:only-of-type {\n",
       "        vertical-align: middle;\n",
       "    }\n",
       "\n",
       "    .dataframe tbody tr th {\n",
       "        vertical-align: top;\n",
       "    }\n",
       "\n",
       "    .dataframe thead th {\n",
       "        text-align: right;\n",
       "    }\n",
       "</style>\n",
       "<table border=\"1\" class=\"dataframe\">\n",
       "  <thead>\n",
       "    <tr style=\"text-align: right;\">\n",
       "      <th></th>\n",
       "      <th>user_id</th>\n",
       "      <th>timestamp</th>\n",
       "      <th>group</th>\n",
       "      <th>landing_page</th>\n",
       "      <th>converted</th>\n",
       "    </tr>\n",
       "  </thead>\n",
       "  <tbody>\n",
       "    <tr>\n",
       "      <th>2893</th>\n",
       "      <td>773192</td>\n",
       "      <td>2017-01-14 02:55:59.590927</td>\n",
       "      <td>treatment</td>\n",
       "      <td>new_page</td>\n",
       "      <td>0</td>\n",
       "    </tr>\n",
       "  </tbody>\n",
       "</table>\n",
       "</div>"
      ],
      "text/plain": [
       "      user_id                   timestamp      group landing_page  converted\n",
       "2893   773192  2017-01-14 02:55:59.590927  treatment     new_page          0"
      ]
     },
     "execution_count": 121,
     "metadata": {},
     "output_type": "execute_result"
    }
   ],
   "source": [
    "#display the duplicate row\n",
    "df[df.user_id.duplicated()]"
   ]
  },
  {
   "cell_type": "markdown",
   "metadata": {},
   "source": [
    "c. What is the row information for the repeat **user_id**? "
   ]
  },
  {
   "cell_type": "markdown",
   "metadata": {},
   "source": [
    "The user id for the duplicate row is 773192. The landing page is a new page and it is part of the treatment group. The converted value is 0, which means that the user did not convert. "
   ]
  },
  {
   "cell_type": "markdown",
   "metadata": {},
   "source": [
    "d. Remove **one** of the rows with a duplicate **user_id**, but keep your dataframe as **df2**."
   ]
  },
  {
   "cell_type": "code",
   "execution_count": 122,
   "metadata": {},
   "outputs": [],
   "source": [
    "df2.drop(2893, inplace=True)"
   ]
  },
  {
   "cell_type": "markdown",
   "metadata": {},
   "source": [
    "`4.` Use **df2** in the below cells to answer the quiz questions related to **Quiz 4** in the classroom.\n",
    "\n",
    "a. What is the probability of an individual converting regardless of the page they receive?"
   ]
  },
  {
   "cell_type": "code",
   "execution_count": 123,
   "metadata": {},
   "outputs": [
    {
     "data": {
      "text/plain": [
       "0.11959708724499628"
      ]
     },
     "execution_count": 123,
     "metadata": {},
     "output_type": "execute_result"
    }
   ],
   "source": [
    "df2.converted.mean()"
   ]
  },
  {
   "cell_type": "markdown",
   "metadata": {},
   "source": [
    "b. Given that an individual was in the `control` group, what is the probability they converted?"
   ]
  },
  {
   "cell_type": "code",
   "execution_count": 124,
   "metadata": {},
   "outputs": [
    {
     "data": {
      "text/plain": [
       "0.1203863045004612"
      ]
     },
     "execution_count": 124,
     "metadata": {},
     "output_type": "execute_result"
    }
   ],
   "source": [
    "(df2.query('group == \"control\"')['converted']).mean()"
   ]
  },
  {
   "cell_type": "markdown",
   "metadata": {},
   "source": [
    "c. Given that an individual was in the `treatment` group, what is the probability they converted?"
   ]
  },
  {
   "cell_type": "code",
   "execution_count": 125,
   "metadata": {
    "scrolled": true
   },
   "outputs": [
    {
     "data": {
      "text/plain": [
       "0.11880806551510564"
      ]
     },
     "execution_count": 125,
     "metadata": {},
     "output_type": "execute_result"
    }
   ],
   "source": [
    "(df2.query('group == \"treatment\"')['converted']).mean()"
   ]
  },
  {
   "cell_type": "markdown",
   "metadata": {},
   "source": [
    "d. What is the probability that an individual received the new page?"
   ]
  },
  {
   "cell_type": "code",
   "execution_count": 126,
   "metadata": {},
   "outputs": [
    {
     "data": {
      "text/plain": [
       "0.5000619442226688"
      ]
     },
     "execution_count": 126,
     "metadata": {},
     "output_type": "execute_result"
    }
   ],
   "source": [
    "(df2.landing_page == 'new_page').mean()"
   ]
  },
  {
   "cell_type": "markdown",
   "metadata": {},
   "source": [
    "e. Consider your results from a. through d. above, and explain below whether you think there is sufficient evidence to say that the new treatment page leads to more conversions."
   ]
  },
  {
   "cell_type": "markdown",
   "metadata": {},
   "source": [
    "There is not sufficient evidence to say that the new treatment page leads to more conversions. The proability of an individual converting regardless of the page shown is around 11.96%. For the control and treatment group, the probability they convert is 12.04% and 11.88% respectively. From the calculations above it seems the control group has a larger probability of conversions. The difference between the control and treatment group is so small (less than 1%!), that we can't conclude there is sufficient evidence that the treatment group leads to less conversions than the control group. \n",
    "\n",
    "The probability that a user received the new page in comparison to the old page is 50%. This means that there is a 50% chance that the user will either receive the new page or landing page. Since these percentages are almost the same, that means there is almost an equal chance for receiving either the new page or landing page, making the test unbiased in this aspect. "
   ]
  },
  {
   "cell_type": "markdown",
   "metadata": {},
   "source": [
    "<a id='ab_test'></a>\n",
    "### Part II - A/B Test\n",
    "\n",
    "Notice that because of the time stamp associated with each event, you could technically run a hypothesis test continuously as each observation was observed.  \n",
    "\n",
    "However, then the hard question is do you stop as soon as one page is considered significantly better than another or does it need to happen consistently for a certain amount of time?  How long do you run to render a decision that neither page is better than another?  \n",
    "\n",
    "These questions are the difficult parts associated with A/B tests in general.  \n",
    "\n",
    "\n",
    "`1.` For now, consider you need to make the decision just based on all the data provided.  If you want to assume that the old page is better unless the new page proves to be definitely better at a Type I error rate of 5%, what should your null and alternative hypotheses be?  You can state your hypothesis in terms of words or in terms of **$p_{old}$** and **$p_{new}$**, which are the converted rates for the old and new pages."
   ]
  },
  {
   "cell_type": "markdown",
   "metadata": {},
   "source": [
    "Null hypothesis: p_old - p_new >= 0\n",
    "\n",
    "Alternative hypothesis: p_new - p_old > 0"
   ]
  },
  {
   "cell_type": "markdown",
   "metadata": {},
   "source": [
    "`2.` Assume under the null hypothesis, $p_{new}$ and $p_{old}$ both have \"true\" success rates equal to the **converted** success rate regardless of page - that is $p_{new}$ and $p_{old}$ are equal. Furthermore, assume they are equal to the **converted** rate in **ab_data.csv** regardless of the page. <br><br>\n",
    "\n",
    "Use a sample size for each page equal to the ones in **ab_data.csv**.  <br><br>\n",
    "\n",
    "Perform the sampling distribution for the difference in **converted** between the two pages over 10,000 iterations of calculating an estimate from the null.  <br><br>\n",
    "\n",
    "Use the cells below to provide the necessary parts of this simulation.  If this doesn't make complete sense right now, don't worry - you are going to work through the problems below to complete this problem.  You can use **Quiz 5** in the classroom to make sure you are on the right track.<br><br>"
   ]
  },
  {
   "cell_type": "markdown",
   "metadata": {},
   "source": [
    "a. What is the **convert rate** for $p_{new}$ under the null? "
   ]
  },
  {
   "cell_type": "code",
   "execution_count": 127,
   "metadata": {},
   "outputs": [
    {
     "data": {
      "text/plain": [
       "0.11959708724499628"
      ]
     },
     "execution_count": 127,
     "metadata": {},
     "output_type": "execute_result"
    }
   ],
   "source": [
    "#p_new: number of new page users converting under null hypothesis\n",
    "p_new = df2['converted'].mean()\n",
    "p_new"
   ]
  },
  {
   "cell_type": "markdown",
   "metadata": {},
   "source": [
    "The conversion rate of users that saw the new page under the null hypothesis is 11.96%."
   ]
  },
  {
   "cell_type": "markdown",
   "metadata": {},
   "source": [
    "b. What is the **convert rate** for $p_{old}$ under the null? <br><br>"
   ]
  },
  {
   "cell_type": "code",
   "execution_count": 128,
   "metadata": {},
   "outputs": [
    {
     "data": {
      "text/plain": [
       "0.11959708724499628"
      ]
     },
     "execution_count": 128,
     "metadata": {},
     "output_type": "execute_result"
    }
   ],
   "source": [
    "#p_old: number of old page users converting under null hypothesis\n",
    "p_old = df2['converted'].mean()\n",
    "p_old"
   ]
  },
  {
   "cell_type": "markdown",
   "metadata": {},
   "source": [
    "The conversion rate of users that saw the old page under the null hypothesis is also 11.96%."
   ]
  },
  {
   "cell_type": "markdown",
   "metadata": {},
   "source": [
    "c. What is $n_{new}$?"
   ]
  },
  {
   "cell_type": "code",
   "execution_count": 129,
   "metadata": {
    "scrolled": true
   },
   "outputs": [
    {
     "data": {
      "text/plain": [
       "145310"
      ]
     },
     "execution_count": 129,
     "metadata": {},
     "output_type": "execute_result"
    }
   ],
   "source": [
    "#n_new: sample size for treatment group\n",
    "n_new = df2.query('group == \"treatment\"').count()[0]\n",
    "n_new"
   ]
  },
  {
   "cell_type": "markdown",
   "metadata": {},
   "source": [
    "The treatment group has 145310 users."
   ]
  },
  {
   "cell_type": "markdown",
   "metadata": {},
   "source": [
    "d. What is $n_{old}$?"
   ]
  },
  {
   "cell_type": "code",
   "execution_count": 130,
   "metadata": {},
   "outputs": [
    {
     "data": {
      "text/plain": [
       "145274"
      ]
     },
     "execution_count": 130,
     "metadata": {},
     "output_type": "execute_result"
    }
   ],
   "source": [
    "#n_old: sample size for control group\n",
    "n_old = df2.query('group == \"control\"').count()[0]\n",
    "n_old"
   ]
  },
  {
   "cell_type": "markdown",
   "metadata": {},
   "source": [
    "The control group had 145274 users (around 100 less users than the treatment group). "
   ]
  },
  {
   "cell_type": "markdown",
   "metadata": {},
   "source": [
    "e. Simulate $n_{new}$ transactions with a convert rate of $p_{new}$ under the null.  Store these $n_{new}$ 1's and 0's in **new_page_converted**."
   ]
  },
  {
   "cell_type": "code",
   "execution_count": 137,
   "metadata": {},
   "outputs": [],
   "source": [
    "new_page_converted = np.random.choice([0,1], n_new, p = [(1-p_new), p_new])"
   ]
  },
  {
   "cell_type": "markdown",
   "metadata": {},
   "source": [
    "f. Simulate $n_{old}$ transactions with a convert rate of $p_{old}$ under the null.  Store these $n_{old}$ 1's and 0's in **old_page_converted**."
   ]
  },
  {
   "cell_type": "code",
   "execution_count": 138,
   "metadata": {},
   "outputs": [],
   "source": [
    "old_page_converted = np.random.choice([0,1], n_old, p = [(1-p_old), p_old])"
   ]
  },
  {
   "cell_type": "markdown",
   "metadata": {},
   "source": [
    "g. Find $p_{new}$ - $p_{old}$ for your simulated values from part (e) and (f)."
   ]
  },
  {
   "cell_type": "code",
   "execution_count": 139,
   "metadata": {},
   "outputs": [
    {
     "data": {
      "text/plain": [
       "-0.0003668852790172372"
      ]
     },
     "execution_count": 139,
     "metadata": {},
     "output_type": "execute_result"
    }
   ],
   "source": [
    "#difference between the new and old page conversion rates\n",
    "obs_diff = new_page_converted.mean() - old_page_converted.mean()\n",
    "obs_diff"
   ]
  },
  {
   "cell_type": "markdown",
   "metadata": {},
   "source": [
    "h. Simulate 10,000 $p_{new}$ - $p_{old}$ values using this same process similarly to the one you calculated in parts **a. through g.** above.  Store all 10,000 values in a numpy array called **p_diffs**."
   ]
  },
  {
   "cell_type": "code",
   "execution_count": 140,
   "metadata": {},
   "outputs": [],
   "source": [
    "#new array that will store all the results\n",
    "p_diffs = []\n",
    "\n",
    "#run the simulation 10000 times\n",
    "for _ in range(10000):\n",
    "    old_page_converted = np.random.choice([0,1], n_old,  p = [(1-p_old), p_old])  \n",
    "    new_page_converted = np.random.choice([0,1], n_new, p = [(1-p_new), p_new])\n",
    "    simulation_diffs = new_page_converted.mean() - old_page_converted.mean()\n",
    "    p_diffs.append(simulation_diffs)\n",
    "\n",
    "#convert to numpy array\n",
    "p_diffs = np.array(p_diffs)"
   ]
  },
  {
   "cell_type": "code",
   "execution_count": 141,
   "metadata": {},
   "outputs": [
    {
     "data": {
      "text/plain": [
       "array([ 3.49144864e-04,  3.28357801e-04,  7.36001563e-05, ...,\n",
       "       -8.07512260e-04, -1.77781061e-03,  1.15404885e-03])"
      ]
     },
     "execution_count": 141,
     "metadata": {},
     "output_type": "execute_result"
    }
   ],
   "source": [
    "p_diffs"
   ]
  },
  {
   "cell_type": "markdown",
   "metadata": {},
   "source": [
    "i. Plot a histogram of the **p_diffs**.  Does this plot look like what you expected?  Use the matching problem in the classroom to assure you fully understand what was computed here."
   ]
  },
  {
   "cell_type": "code",
   "execution_count": 142,
   "metadata": {},
   "outputs": [
    {
     "data": {
      "image/png": "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\n",
      "text/plain": [
       "<Figure size 640x480 with 1 Axes>"
      ]
     },
     "metadata": {},
     "output_type": "display_data"
    }
   ],
   "source": [
    "#plot histogram\n",
    "plt.hist(p_diffs)\n",
    "plt.title('Distribution of differences in conversion rate')\n",
    "plt.xlabel('p-level')\n",
    "plt.ylabel('Count');"
   ]
  },
  {
   "cell_type": "markdown",
   "metadata": {},
   "source": [
    "j. What proportion of the **p_diffs** are greater than the actual difference observed in **ab_data.csv**?"
   ]
  },
  {
   "cell_type": "code",
   "execution_count": 143,
   "metadata": {},
   "outputs": [],
   "source": [
    "#distribution under null hypothesis\n",
    "null_distribution = np.random.normal(0, p_diffs.std(), p_diffs.size)"
   ]
  },
  {
   "cell_type": "code",
   "execution_count": 156,
   "metadata": {},
   "outputs": [
    {
     "data": {
      "image/png": "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\n",
      "text/plain": [
       "<Figure size 640x480 with 1 Axes>"
      ]
     },
     "metadata": {},
     "output_type": "display_data"
    }
   ],
   "source": [
    "#actual difference observed from the csv file\n",
    "actual_diff = (df2.query('group == \"treatment\"')['converted']).mean() - (df2.query('group == \"control\"')['converted']).mean()\n",
    "\n",
    "\n",
    "#null distribution\n",
    "plt.hist(null_distribution);\n",
    "plt.title('Nulls Histogram')\n",
    "plt.xlabel('p-level')\n",
    "plt.ylabel('Count')\n",
    "\n",
    "#line for observed actual difference\n",
    "plt.axvline(actual_diff, c = 'green');"
   ]
  },
  {
   "cell_type": "code",
   "execution_count": 153,
   "metadata": {},
   "outputs": [
    {
     "data": {
      "text/plain": [
       "0.9049"
      ]
     },
     "execution_count": 153,
     "metadata": {},
     "output_type": "execute_result"
    }
   ],
   "source": [
    "# calculate p-value\n",
    "(p_diffs > actual_diff).mean()"
   ]
  },
  {
   "cell_type": "markdown",
   "metadata": {},
   "source": [
    "k. In words, explain what you just computed in part **j.**  What is this value called in scientific studies?  What does this value mean in terms of whether or not there is a difference between the new and old pages?"
   ]
  },
  {
   "cell_type": "markdown",
   "metadata": {},
   "source": [
    "The value computed in part j is called the p-value. It is a value that determines statistical significance for the results of the study. Since the p-value is quite large and is greater 0.05 (the error rate), we fail to reject the null hypothesis. This means, there we can not say that there is a difference between conversions for the new and old pages."
   ]
  },
  {
   "cell_type": "markdown",
   "metadata": {},
   "source": [
    "l. We could also use a built-in to achieve similar results.  Though using the built-in might be easier to code, the above portions are a walkthrough of the ideas that are critical to correctly thinking about statistical significance. Fill in the below to calculate the number of conversions for each page, as well as the number of individuals who received each page. Let `n_old` and `n_new` refer the the number of rows associated with the old page and new pages, respectively."
   ]
  },
  {
   "cell_type": "code",
   "execution_count": 157,
   "metadata": {},
   "outputs": [],
   "source": [
    "import statsmodels.api as sm\n",
    "\n",
    "convert_old = (df2[(df2['group']=='control') & (df2['converted']==1)]).count()[0]\n",
    "convert_new = (df2[(df2['group']=='treatment') & (df2['converted']==1)]).count()[0]\n",
    "n_old = 145274\n",
    "n_new = 145310"
   ]
  },
  {
   "cell_type": "markdown",
   "metadata": {},
   "source": [
    "m. Now use `stats.proportions_ztest` to compute your test statistic and p-value.  [Here](http://knowledgetack.com/python/statsmodels/proportions_ztest/) is a helpful link on using the built in."
   ]
  },
  {
   "cell_type": "code",
   "execution_count": 158,
   "metadata": {},
   "outputs": [
    {
     "data": {
      "text/plain": [
       "(1.3109241984234394, 0.9050583127590245)"
      ]
     },
     "execution_count": 158,
     "metadata": {},
     "output_type": "execute_result"
    }
   ],
   "source": [
    "#use smaller because alternative hypothesis is p1 < p2\n",
    "sm.stats.proportions_ztest([convert_old, convert_new], [n_old, n_new], alternative='smaller')"
   ]
  },
  {
   "cell_type": "markdown",
   "metadata": {},
   "source": [
    "n. What do the z-score and p-value you computed in the previous question mean for the conversion rates of the old and new pages?  Do they agree with the findings in parts **j.** and **k.**?"
   ]
  },
  {
   "cell_type": "markdown",
   "metadata": {},
   "source": [
    "The p-value is 0.91 and the z-score is 1.31. Because the p-value, 0.91 is greater than 0.05, our error rate, we fail to reject the null hypothesis. Since the z-score is less than the significant z-score of 1.96, we still can not reject the null hypothesis. We can't conclude that the conversion rates of the new page is greater than the old page. This does agree with the findings in parts j. and k. Both the p-value and the conclusion is the same. "
   ]
  },
  {
   "cell_type": "markdown",
   "metadata": {},
   "source": [
    "<a id='regression'></a>\n",
    "### Part III - A regression approach\n",
    "\n",
    "`1.` In this final part, you will see that the result you acheived in the previous A/B test can also be acheived by performing regression.<br><br>\n",
    "\n",
    "a. Since each row is either a conversion or no conversion, what type of regression should you be performing in this case?"
   ]
  },
  {
   "cell_type": "markdown",
   "metadata": {},
   "source": [
    "We should be performing a logistic regression; logistic regression is for predicting categorical responses when there are only 2 outcomes. "
   ]
  },
  {
   "cell_type": "markdown",
   "metadata": {},
   "source": [
    "b. The goal is to use **statsmodels** to fit the regression model you specified in part **a.** to see if there is a significant difference in conversion based on which page a customer receives.  However, you first need to create a column for the intercept, and create a dummy variable column for which page each user received.  Add an **intercept** column, as well as an **ab_page** column, which is 1 when an individual receives the **treatment** and 0 if **control**."
   ]
  },
  {
   "cell_type": "code",
   "execution_count": 81,
   "metadata": {},
   "outputs": [],
   "source": [
    "#intercept column\n",
    "df2['intercept'] = 1\n",
    "\n",
    "#get dummies\n",
    "df2['ab_page'] = pd.get_dummies(df2['group'])['treatment']\n"
   ]
  },
  {
   "cell_type": "markdown",
   "metadata": {},
   "source": [
    "c. Use **statsmodels** to import your regression model.  Instantiate the model, and fit the model using the two columns you created in part **b.** to predict whether or not an individual converts."
   ]
  },
  {
   "cell_type": "code",
   "execution_count": 82,
   "metadata": {},
   "outputs": [
    {
     "name": "stdout",
     "output_type": "stream",
     "text": [
      "Optimization terminated successfully.\n",
      "         Current function value: 0.366118\n",
      "         Iterations 6\n"
     ]
    }
   ],
   "source": [
    "log_mod = sm.Logit(df2['converted'], df2[['intercept', 'ab_page']])\n",
    "results = log_mod.fit()"
   ]
  },
  {
   "cell_type": "markdown",
   "metadata": {},
   "source": [
    "d. Provide the summary of your model below, and use it as necessary to answer the following questions."
   ]
  },
  {
   "cell_type": "code",
   "execution_count": 40,
   "metadata": {},
   "outputs": [
    {
     "data": {
      "text/html": [
       "<table class=\"simpletable\">\n",
       "<caption>Logit Regression Results</caption>\n",
       "<tr>\n",
       "  <th>Dep. Variable:</th>       <td>converted</td>    <th>  No. Observations:  </th>   <td>290584</td>   \n",
       "</tr>\n",
       "<tr>\n",
       "  <th>Model:</th>                 <td>Logit</td>      <th>  Df Residuals:      </th>   <td>290582</td>   \n",
       "</tr>\n",
       "<tr>\n",
       "  <th>Method:</th>                 <td>MLE</td>       <th>  Df Model:          </th>   <td>     1</td>   \n",
       "</tr>\n",
       "<tr>\n",
       "  <th>Date:</th>            <td>Wed, 30 Nov 2022</td> <th>  Pseudo R-squ.:     </th>  <td>8.077e-06</td> \n",
       "</tr>\n",
       "<tr>\n",
       "  <th>Time:</th>                <td>16:15:17</td>     <th>  Log-Likelihood:    </th> <td>-1.0639e+05</td>\n",
       "</tr>\n",
       "<tr>\n",
       "  <th>converged:</th>             <td>True</td>       <th>  LL-Null:           </th> <td>-1.0639e+05</td>\n",
       "</tr>\n",
       "<tr>\n",
       "  <th>Covariance Type:</th>     <td>nonrobust</td>    <th>  LLR p-value:       </th>   <td>0.1899</td>   \n",
       "</tr>\n",
       "</table>\n",
       "<table class=\"simpletable\">\n",
       "<tr>\n",
       "      <td></td>         <th>coef</th>     <th>std err</th>      <th>z</th>      <th>P>|z|</th>  <th>[0.025</th>    <th>0.975]</th>  \n",
       "</tr>\n",
       "<tr>\n",
       "  <th>intercept</th> <td>   -1.9888</td> <td>    0.008</td> <td> -246.669</td> <td> 0.000</td> <td>   -2.005</td> <td>   -1.973</td>\n",
       "</tr>\n",
       "<tr>\n",
       "  <th>ab_page</th>   <td>   -0.0150</td> <td>    0.011</td> <td>   -1.311</td> <td> 0.190</td> <td>   -0.037</td> <td>    0.007</td>\n",
       "</tr>\n",
       "</table>"
      ],
      "text/plain": [
       "<class 'statsmodels.iolib.summary.Summary'>\n",
       "\"\"\"\n",
       "                           Logit Regression Results                           \n",
       "==============================================================================\n",
       "Dep. Variable:              converted   No. Observations:               290584\n",
       "Model:                          Logit   Df Residuals:                   290582\n",
       "Method:                           MLE   Df Model:                            1\n",
       "Date:                Wed, 30 Nov 2022   Pseudo R-squ.:               8.077e-06\n",
       "Time:                        16:15:17   Log-Likelihood:            -1.0639e+05\n",
       "converged:                       True   LL-Null:                   -1.0639e+05\n",
       "Covariance Type:            nonrobust   LLR p-value:                    0.1899\n",
       "==============================================================================\n",
       "                 coef    std err          z      P>|z|      [0.025      0.975]\n",
       "------------------------------------------------------------------------------\n",
       "intercept     -1.9888      0.008   -246.669      0.000      -2.005      -1.973\n",
       "ab_page       -0.0150      0.011     -1.311      0.190      -0.037       0.007\n",
       "==============================================================================\n",
       "\"\"\""
      ]
     },
     "execution_count": 40,
     "metadata": {},
     "output_type": "execute_result"
    }
   ],
   "source": [
    "results.summary()"
   ]
  },
  {
   "cell_type": "markdown",
   "metadata": {},
   "source": [
    "e. What is the p-value associated with **ab_page**? Why does it differ from the value you found in **Part II**?<br><br>  **Hint**: What are the null and alternative hypotheses associated with your regression model, and how do they compare to the null and alternative hypotheses in the **Part II**?"
   ]
  },
  {
   "cell_type": "markdown",
   "metadata": {},
   "source": [
    "The p-value associated with ab_page is 0.190. This is different from the value I found before because it is a two-tailed test, whereas the test before was a one-tailed test. Instead of testing whether or not the new page conversions is greater than the old page, it tests whether or not the new page conversions is greater or less than the old page."
   ]
  },
  {
   "cell_type": "markdown",
   "metadata": {},
   "source": [
    "f. Now, you are considering other things that might influence whether or not an individual converts.  Discuss why it is a good idea to consider other factors to add into your regression model.  Are there any disadvantages to adding additional terms into your regression model?"
   ]
  },
  {
   "cell_type": "markdown",
   "metadata": {},
   "source": [
    "It could be a good idea to consider other factors to add into the regression model to avoid biased results. Having too litte variables ignores possible interactions between the dependent variable and other independent variables.  A disadvantage to adding additional terms into our regression model is possible multicollinearity. Variables may have correlations with each other, which can cause unreliable hypothesis testing results and expected relationships. We can use their VIFs or correlations (with a scatterplot) to determine whether or not there is multicollinearity between variables. It can also be hard to collect data on these variables."
   ]
  },
  {
   "cell_type": "markdown",
   "metadata": {},
   "source": [
    "g. Now along with testing if the conversion rate changes for different pages, also add an effect based on which country a user lives. You will need to read in the **countries.csv** dataset and merge together your datasets on the approporiate rows.  [Here](https://pandas.pydata.org/pandas-docs/stable/generated/pandas.DataFrame.join.html) are the docs for joining tables. \n",
    "\n",
    "Does it appear that country had an impact on conversion?  Don't forget to create dummy variables for these country columns - **Hint: You will need two columns for the three dummy variables.** Provide the statistical output as well as a written response to answer this question."
   ]
  },
  {
   "cell_type": "code",
   "execution_count": 83,
   "metadata": {
    "scrolled": true
   },
   "outputs": [
    {
     "data": {
      "text/html": [
       "<div>\n",
       "<style scoped>\n",
       "    .dataframe tbody tr th:only-of-type {\n",
       "        vertical-align: middle;\n",
       "    }\n",
       "\n",
       "    .dataframe tbody tr th {\n",
       "        vertical-align: top;\n",
       "    }\n",
       "\n",
       "    .dataframe thead th {\n",
       "        text-align: right;\n",
       "    }\n",
       "</style>\n",
       "<table border=\"1\" class=\"dataframe\">\n",
       "  <thead>\n",
       "    <tr style=\"text-align: right;\">\n",
       "      <th></th>\n",
       "      <th>country</th>\n",
       "      <th>timestamp</th>\n",
       "      <th>group</th>\n",
       "      <th>landing_page</th>\n",
       "      <th>converted</th>\n",
       "      <th>UK</th>\n",
       "      <th>US</th>\n",
       "      <th>CA</th>\n",
       "      <th>intercept</th>\n",
       "      <th>ab_page</th>\n",
       "    </tr>\n",
       "    <tr>\n",
       "      <th>user_id</th>\n",
       "      <th></th>\n",
       "      <th></th>\n",
       "      <th></th>\n",
       "      <th></th>\n",
       "      <th></th>\n",
       "      <th></th>\n",
       "      <th></th>\n",
       "      <th></th>\n",
       "      <th></th>\n",
       "      <th></th>\n",
       "    </tr>\n",
       "  </thead>\n",
       "  <tbody>\n",
       "    <tr>\n",
       "      <th>834778</th>\n",
       "      <td>UK</td>\n",
       "      <td>2017-01-14 23:08:43.304998</td>\n",
       "      <td>control</td>\n",
       "      <td>old_page</td>\n",
       "      <td>0</td>\n",
       "      <td>NaN</td>\n",
       "      <td>NaN</td>\n",
       "      <td>NaN</td>\n",
       "      <td>1</td>\n",
       "      <td>0</td>\n",
       "    </tr>\n",
       "    <tr>\n",
       "      <th>928468</th>\n",
       "      <td>US</td>\n",
       "      <td>2017-01-23 14:44:16.387854</td>\n",
       "      <td>treatment</td>\n",
       "      <td>new_page</td>\n",
       "      <td>0</td>\n",
       "      <td>NaN</td>\n",
       "      <td>NaN</td>\n",
       "      <td>NaN</td>\n",
       "      <td>1</td>\n",
       "      <td>1</td>\n",
       "    </tr>\n",
       "    <tr>\n",
       "      <th>822059</th>\n",
       "      <td>UK</td>\n",
       "      <td>2017-01-16 14:04:14.719771</td>\n",
       "      <td>treatment</td>\n",
       "      <td>new_page</td>\n",
       "      <td>1</td>\n",
       "      <td>NaN</td>\n",
       "      <td>NaN</td>\n",
       "      <td>NaN</td>\n",
       "      <td>1</td>\n",
       "      <td>1</td>\n",
       "    </tr>\n",
       "    <tr>\n",
       "      <th>711597</th>\n",
       "      <td>UK</td>\n",
       "      <td>2017-01-22 03:14:24.763511</td>\n",
       "      <td>control</td>\n",
       "      <td>old_page</td>\n",
       "      <td>0</td>\n",
       "      <td>NaN</td>\n",
       "      <td>NaN</td>\n",
       "      <td>NaN</td>\n",
       "      <td>1</td>\n",
       "      <td>0</td>\n",
       "    </tr>\n",
       "    <tr>\n",
       "      <th>710616</th>\n",
       "      <td>UK</td>\n",
       "      <td>2017-01-16 13:14:44.000513</td>\n",
       "      <td>treatment</td>\n",
       "      <td>new_page</td>\n",
       "      <td>0</td>\n",
       "      <td>NaN</td>\n",
       "      <td>NaN</td>\n",
       "      <td>NaN</td>\n",
       "      <td>1</td>\n",
       "      <td>1</td>\n",
       "    </tr>\n",
       "  </tbody>\n",
       "</table>\n",
       "</div>"
      ],
      "text/plain": [
       "        country                   timestamp      group landing_page  \\\n",
       "user_id                                                               \n",
       "834778       UK  2017-01-14 23:08:43.304998    control     old_page   \n",
       "928468       US  2017-01-23 14:44:16.387854  treatment     new_page   \n",
       "822059       UK  2017-01-16 14:04:14.719771  treatment     new_page   \n",
       "711597       UK  2017-01-22 03:14:24.763511    control     old_page   \n",
       "710616       UK  2017-01-16 13:14:44.000513  treatment     new_page   \n",
       "\n",
       "         converted  UK  US  CA  intercept  ab_page  \n",
       "user_id                                             \n",
       "834778           0 NaN NaN NaN          1        0  \n",
       "928468           0 NaN NaN NaN          1        1  \n",
       "822059           1 NaN NaN NaN          1        1  \n",
       "711597           0 NaN NaN NaN          1        0  \n",
       "710616           0 NaN NaN NaN          1        1  "
      ]
     },
     "execution_count": 83,
     "metadata": {},
     "output_type": "execute_result"
    }
   ],
   "source": [
    "countries_df = pd.read_csv('./countries.csv')\n",
    "df_new = countries_df.set_index('user_id').join(df2.set_index('user_id'), how='inner')\n",
    "df_new.head()"
   ]
  },
  {
   "cell_type": "code",
   "execution_count": 84,
   "metadata": {},
   "outputs": [
    {
     "data": {
      "text/plain": [
       "array(['UK', 'US', 'CA'], dtype=object)"
      ]
     },
     "execution_count": 84,
     "metadata": {},
     "output_type": "execute_result"
    }
   ],
   "source": [
    "#check what the unique values of the country column are\n",
    "df_new.country.unique()"
   ]
  },
  {
   "cell_type": "code",
   "execution_count": 85,
   "metadata": {
    "scrolled": false
   },
   "outputs": [
    {
     "data": {
      "text/html": [
       "<div>\n",
       "<style scoped>\n",
       "    .dataframe tbody tr th:only-of-type {\n",
       "        vertical-align: middle;\n",
       "    }\n",
       "\n",
       "    .dataframe tbody tr th {\n",
       "        vertical-align: top;\n",
       "    }\n",
       "\n",
       "    .dataframe thead th {\n",
       "        text-align: right;\n",
       "    }\n",
       "</style>\n",
       "<table border=\"1\" class=\"dataframe\">\n",
       "  <thead>\n",
       "    <tr style=\"text-align: right;\">\n",
       "      <th></th>\n",
       "      <th>country</th>\n",
       "      <th>timestamp</th>\n",
       "      <th>group</th>\n",
       "      <th>landing_page</th>\n",
       "      <th>converted</th>\n",
       "      <th>UK</th>\n",
       "      <th>US</th>\n",
       "      <th>CA</th>\n",
       "      <th>intercept</th>\n",
       "      <th>ab_page</th>\n",
       "    </tr>\n",
       "    <tr>\n",
       "      <th>user_id</th>\n",
       "      <th></th>\n",
       "      <th></th>\n",
       "      <th></th>\n",
       "      <th></th>\n",
       "      <th></th>\n",
       "      <th></th>\n",
       "      <th></th>\n",
       "      <th></th>\n",
       "      <th></th>\n",
       "      <th></th>\n",
       "    </tr>\n",
       "  </thead>\n",
       "  <tbody>\n",
       "    <tr>\n",
       "      <th>834778</th>\n",
       "      <td>UK</td>\n",
       "      <td>2017-01-14 23:08:43.304998</td>\n",
       "      <td>control</td>\n",
       "      <td>old_page</td>\n",
       "      <td>0</td>\n",
       "      <td>0</td>\n",
       "      <td>1</td>\n",
       "      <td>0</td>\n",
       "      <td>1</td>\n",
       "      <td>0</td>\n",
       "    </tr>\n",
       "    <tr>\n",
       "      <th>928468</th>\n",
       "      <td>US</td>\n",
       "      <td>2017-01-23 14:44:16.387854</td>\n",
       "      <td>treatment</td>\n",
       "      <td>new_page</td>\n",
       "      <td>0</td>\n",
       "      <td>0</td>\n",
       "      <td>0</td>\n",
       "      <td>1</td>\n",
       "      <td>1</td>\n",
       "      <td>1</td>\n",
       "    </tr>\n",
       "    <tr>\n",
       "      <th>822059</th>\n",
       "      <td>UK</td>\n",
       "      <td>2017-01-16 14:04:14.719771</td>\n",
       "      <td>treatment</td>\n",
       "      <td>new_page</td>\n",
       "      <td>1</td>\n",
       "      <td>0</td>\n",
       "      <td>1</td>\n",
       "      <td>0</td>\n",
       "      <td>1</td>\n",
       "      <td>1</td>\n",
       "    </tr>\n",
       "    <tr>\n",
       "      <th>711597</th>\n",
       "      <td>UK</td>\n",
       "      <td>2017-01-22 03:14:24.763511</td>\n",
       "      <td>control</td>\n",
       "      <td>old_page</td>\n",
       "      <td>0</td>\n",
       "      <td>0</td>\n",
       "      <td>1</td>\n",
       "      <td>0</td>\n",
       "      <td>1</td>\n",
       "      <td>0</td>\n",
       "    </tr>\n",
       "    <tr>\n",
       "      <th>710616</th>\n",
       "      <td>UK</td>\n",
       "      <td>2017-01-16 13:14:44.000513</td>\n",
       "      <td>treatment</td>\n",
       "      <td>new_page</td>\n",
       "      <td>0</td>\n",
       "      <td>0</td>\n",
       "      <td>1</td>\n",
       "      <td>0</td>\n",
       "      <td>1</td>\n",
       "      <td>1</td>\n",
       "    </tr>\n",
       "  </tbody>\n",
       "</table>\n",
       "</div>"
      ],
      "text/plain": [
       "        country                   timestamp      group landing_page  \\\n",
       "user_id                                                               \n",
       "834778       UK  2017-01-14 23:08:43.304998    control     old_page   \n",
       "928468       US  2017-01-23 14:44:16.387854  treatment     new_page   \n",
       "822059       UK  2017-01-16 14:04:14.719771  treatment     new_page   \n",
       "711597       UK  2017-01-22 03:14:24.763511    control     old_page   \n",
       "710616       UK  2017-01-16 13:14:44.000513  treatment     new_page   \n",
       "\n",
       "         converted  UK  US  CA  intercept  ab_page  \n",
       "user_id                                             \n",
       "834778           0   0   1   0          1        0  \n",
       "928468           0   0   0   1          1        1  \n",
       "822059           1   0   1   0          1        1  \n",
       "711597           0   0   1   0          1        0  \n",
       "710616           0   0   1   0          1        1  "
      ]
     },
     "execution_count": 85,
     "metadata": {},
     "output_type": "execute_result"
    }
   ],
   "source": [
    "### Create the necessary dummy variables\n",
    "df_new['intercept'] = 1\n",
    "df_new[['UK','US','CA']] = pd.get_dummies(df_new['country'])\n",
    "df_new.head()"
   ]
  },
  {
   "cell_type": "code",
   "execution_count": 87,
   "metadata": {
    "scrolled": true
   },
   "outputs": [
    {
     "name": "stdout",
     "output_type": "stream",
     "text": [
      "Optimization terminated successfully.\n",
      "         Current function value: 0.366113\n",
      "         Iterations 6\n"
     ]
    },
    {
     "data": {
      "text/html": [
       "<table class=\"simpletable\">\n",
       "<caption>Logit Regression Results</caption>\n",
       "<tr>\n",
       "  <th>Dep. Variable:</th>       <td>converted</td>    <th>  No. Observations:  </th>   <td>290584</td>   \n",
       "</tr>\n",
       "<tr>\n",
       "  <th>Model:</th>                 <td>Logit</td>      <th>  Df Residuals:      </th>   <td>290580</td>   \n",
       "</tr>\n",
       "<tr>\n",
       "  <th>Method:</th>                 <td>MLE</td>       <th>  Df Model:          </th>   <td>     3</td>   \n",
       "</tr>\n",
       "<tr>\n",
       "  <th>Date:</th>            <td>Wed, 30 Nov 2022</td> <th>  Pseudo R-squ.:     </th>  <td>2.323e-05</td> \n",
       "</tr>\n",
       "<tr>\n",
       "  <th>Time:</th>                <td>16:39:37</td>     <th>  Log-Likelihood:    </th> <td>-1.0639e+05</td>\n",
       "</tr>\n",
       "<tr>\n",
       "  <th>converged:</th>             <td>True</td>       <th>  LL-Null:           </th> <td>-1.0639e+05</td>\n",
       "</tr>\n",
       "<tr>\n",
       "  <th>Covariance Type:</th>     <td>nonrobust</td>    <th>  LLR p-value:       </th>   <td>0.1760</td>   \n",
       "</tr>\n",
       "</table>\n",
       "<table class=\"simpletable\">\n",
       "<tr>\n",
       "      <td></td>         <th>coef</th>     <th>std err</th>      <th>z</th>      <th>P>|z|</th>  <th>[0.025</th>    <th>0.975]</th>  \n",
       "</tr>\n",
       "<tr>\n",
       "  <th>intercept</th> <td>   -1.9794</td> <td>    0.013</td> <td> -155.415</td> <td> 0.000</td> <td>   -2.004</td> <td>   -1.954</td>\n",
       "</tr>\n",
       "<tr>\n",
       "  <th>ab_page</th>   <td>   -0.0149</td> <td>    0.011</td> <td>   -1.307</td> <td> 0.191</td> <td>   -0.037</td> <td>    0.007</td>\n",
       "</tr>\n",
       "<tr>\n",
       "  <th>UK</th>        <td>   -0.0506</td> <td>    0.028</td> <td>   -1.784</td> <td> 0.074</td> <td>   -0.106</td> <td>    0.005</td>\n",
       "</tr>\n",
       "<tr>\n",
       "  <th>CA</th>        <td>   -0.0099</td> <td>    0.013</td> <td>   -0.743</td> <td> 0.457</td> <td>   -0.036</td> <td>    0.016</td>\n",
       "</tr>\n",
       "</table>"
      ],
      "text/plain": [
       "<class 'statsmodels.iolib.summary.Summary'>\n",
       "\"\"\"\n",
       "                           Logit Regression Results                           \n",
       "==============================================================================\n",
       "Dep. Variable:              converted   No. Observations:               290584\n",
       "Model:                          Logit   Df Residuals:                   290580\n",
       "Method:                           MLE   Df Model:                            3\n",
       "Date:                Wed, 30 Nov 2022   Pseudo R-squ.:               2.323e-05\n",
       "Time:                        16:39:37   Log-Likelihood:            -1.0639e+05\n",
       "converged:                       True   LL-Null:                   -1.0639e+05\n",
       "Covariance Type:            nonrobust   LLR p-value:                    0.1760\n",
       "==============================================================================\n",
       "                 coef    std err          z      P>|z|      [0.025      0.975]\n",
       "------------------------------------------------------------------------------\n",
       "intercept     -1.9794      0.013   -155.415      0.000      -2.004      -1.954\n",
       "ab_page       -0.0149      0.011     -1.307      0.191      -0.037       0.007\n",
       "UK            -0.0506      0.028     -1.784      0.074      -0.106       0.005\n",
       "CA            -0.0099      0.013     -0.743      0.457      -0.036       0.016\n",
       "==============================================================================\n",
       "\"\"\""
      ]
     },
     "execution_count": 87,
     "metadata": {},
     "output_type": "execute_result"
    }
   ],
   "source": [
    "### Fit Linear Model And Obtain the Results\n",
    "log_mod2 = sm.Logit(df_new['converted'], df_new[['intercept', 'ab_page', 'UK', 'CA']])\n",
    "results2 = log_mod2.fit()\n",
    "results2.summary()"
   ]
  },
  {
   "cell_type": "markdown",
   "metadata": {},
   "source": [
    "It doesn't appear like the country had an impact on conversion. I used US as a baseline, but the p-values for UK (0.074) and CA (0.457) are greater than 0.05, making the differences insignificant. We can not conclude that being a different country affects the conversion rate.  "
   ]
  },
  {
   "cell_type": "markdown",
   "metadata": {},
   "source": [
    "h. Though you have now looked at the individual factors of country and page on conversion, we would now like to look at an interaction between page and country to see if there significant effects on conversion.  Create the necessary additional columns, and fit the new model.  \n",
    "\n",
    "Provide the summary results, and your conclusions based on the results."
   ]
  },
  {
   "cell_type": "code",
   "execution_count": 160,
   "metadata": {},
   "outputs": [
    {
     "data": {
      "text/html": [
       "<div>\n",
       "<style scoped>\n",
       "    .dataframe tbody tr th:only-of-type {\n",
       "        vertical-align: middle;\n",
       "    }\n",
       "\n",
       "    .dataframe tbody tr th {\n",
       "        vertical-align: top;\n",
       "    }\n",
       "\n",
       "    .dataframe thead th {\n",
       "        text-align: right;\n",
       "    }\n",
       "</style>\n",
       "<table border=\"1\" class=\"dataframe\">\n",
       "  <thead>\n",
       "    <tr style=\"text-align: right;\">\n",
       "      <th></th>\n",
       "      <th>country</th>\n",
       "      <th>timestamp</th>\n",
       "      <th>group</th>\n",
       "      <th>landing_page</th>\n",
       "      <th>converted</th>\n",
       "      <th>UK</th>\n",
       "      <th>US</th>\n",
       "      <th>CA</th>\n",
       "      <th>intercept</th>\n",
       "      <th>ab_page</th>\n",
       "      <th>UK_newpage</th>\n",
       "      <th>CA_newpage</th>\n",
       "    </tr>\n",
       "    <tr>\n",
       "      <th>user_id</th>\n",
       "      <th></th>\n",
       "      <th></th>\n",
       "      <th></th>\n",
       "      <th></th>\n",
       "      <th></th>\n",
       "      <th></th>\n",
       "      <th></th>\n",
       "      <th></th>\n",
       "      <th></th>\n",
       "      <th></th>\n",
       "      <th></th>\n",
       "      <th></th>\n",
       "    </tr>\n",
       "  </thead>\n",
       "  <tbody>\n",
       "    <tr>\n",
       "      <th>834778</th>\n",
       "      <td>UK</td>\n",
       "      <td>2017-01-14 23:08:43.304998</td>\n",
       "      <td>control</td>\n",
       "      <td>old_page</td>\n",
       "      <td>0</td>\n",
       "      <td>0</td>\n",
       "      <td>1</td>\n",
       "      <td>0</td>\n",
       "      <td>1</td>\n",
       "      <td>0</td>\n",
       "      <td>0</td>\n",
       "      <td>0</td>\n",
       "    </tr>\n",
       "    <tr>\n",
       "      <th>928468</th>\n",
       "      <td>US</td>\n",
       "      <td>2017-01-23 14:44:16.387854</td>\n",
       "      <td>treatment</td>\n",
       "      <td>new_page</td>\n",
       "      <td>0</td>\n",
       "      <td>0</td>\n",
       "      <td>0</td>\n",
       "      <td>1</td>\n",
       "      <td>1</td>\n",
       "      <td>1</td>\n",
       "      <td>0</td>\n",
       "      <td>1</td>\n",
       "    </tr>\n",
       "    <tr>\n",
       "      <th>822059</th>\n",
       "      <td>UK</td>\n",
       "      <td>2017-01-16 14:04:14.719771</td>\n",
       "      <td>treatment</td>\n",
       "      <td>new_page</td>\n",
       "      <td>1</td>\n",
       "      <td>0</td>\n",
       "      <td>1</td>\n",
       "      <td>0</td>\n",
       "      <td>1</td>\n",
       "      <td>1</td>\n",
       "      <td>0</td>\n",
       "      <td>0</td>\n",
       "    </tr>\n",
       "    <tr>\n",
       "      <th>711597</th>\n",
       "      <td>UK</td>\n",
       "      <td>2017-01-22 03:14:24.763511</td>\n",
       "      <td>control</td>\n",
       "      <td>old_page</td>\n",
       "      <td>0</td>\n",
       "      <td>0</td>\n",
       "      <td>1</td>\n",
       "      <td>0</td>\n",
       "      <td>1</td>\n",
       "      <td>0</td>\n",
       "      <td>0</td>\n",
       "      <td>0</td>\n",
       "    </tr>\n",
       "    <tr>\n",
       "      <th>710616</th>\n",
       "      <td>UK</td>\n",
       "      <td>2017-01-16 13:14:44.000513</td>\n",
       "      <td>treatment</td>\n",
       "      <td>new_page</td>\n",
       "      <td>0</td>\n",
       "      <td>0</td>\n",
       "      <td>1</td>\n",
       "      <td>0</td>\n",
       "      <td>1</td>\n",
       "      <td>1</td>\n",
       "      <td>0</td>\n",
       "      <td>0</td>\n",
       "    </tr>\n",
       "  </tbody>\n",
       "</table>\n",
       "</div>"
      ],
      "text/plain": [
       "        country                   timestamp      group landing_page  \\\n",
       "user_id                                                               \n",
       "834778       UK  2017-01-14 23:08:43.304998    control     old_page   \n",
       "928468       US  2017-01-23 14:44:16.387854  treatment     new_page   \n",
       "822059       UK  2017-01-16 14:04:14.719771  treatment     new_page   \n",
       "711597       UK  2017-01-22 03:14:24.763511    control     old_page   \n",
       "710616       UK  2017-01-16 13:14:44.000513  treatment     new_page   \n",
       "\n",
       "         converted  UK  US  CA  intercept  ab_page  UK_newpage  CA_newpage  \n",
       "user_id                                                                     \n",
       "834778           0   0   1   0          1        0           0           0  \n",
       "928468           0   0   0   1          1        1           0           1  \n",
       "822059           1   0   1   0          1        1           0           0  \n",
       "711597           0   0   1   0          1        0           0           0  \n",
       "710616           0   0   1   0          1        1           0           0  "
      ]
     },
     "execution_count": 160,
     "metadata": {},
     "output_type": "execute_result"
    }
   ],
   "source": [
    "#look at interactions for each country and page\n",
    "df_new['UK_newpage'] = df_new['UK'] * df_new['ab_page']\n",
    "df_new['CA_newpage'] = df_new['CA'] * df_new['ab_page']\n",
    "df_new.head()"
   ]
  },
  {
   "cell_type": "code",
   "execution_count": 163,
   "metadata": {
    "scrolled": true
   },
   "outputs": [
    {
     "name": "stdout",
     "output_type": "stream",
     "text": [
      "Optimization terminated successfully.\n",
      "         Current function value: 0.366109\n",
      "         Iterations 6\n"
     ]
    },
    {
     "data": {
      "text/html": [
       "<table class=\"simpletable\">\n",
       "<caption>Logit Regression Results</caption>\n",
       "<tr>\n",
       "  <th>Dep. Variable:</th>       <td>converted</td>    <th>  No. Observations:  </th>   <td>290584</td>   \n",
       "</tr>\n",
       "<tr>\n",
       "  <th>Model:</th>                 <td>Logit</td>      <th>  Df Residuals:      </th>   <td>290578</td>   \n",
       "</tr>\n",
       "<tr>\n",
       "  <th>Method:</th>                 <td>MLE</td>       <th>  Df Model:          </th>   <td>     5</td>   \n",
       "</tr>\n",
       "<tr>\n",
       "  <th>Date:</th>            <td>Thu, 01 Dec 2022</td> <th>  Pseudo R-squ.:     </th>  <td>3.482e-05</td> \n",
       "</tr>\n",
       "<tr>\n",
       "  <th>Time:</th>                <td>14:23:30</td>     <th>  Log-Likelihood:    </th> <td>-1.0639e+05</td>\n",
       "</tr>\n",
       "<tr>\n",
       "  <th>converged:</th>             <td>True</td>       <th>  LL-Null:           </th> <td>-1.0639e+05</td>\n",
       "</tr>\n",
       "<tr>\n",
       "  <th>Covariance Type:</th>     <td>nonrobust</td>    <th>  LLR p-value:       </th>   <td>0.1920</td>   \n",
       "</tr>\n",
       "</table>\n",
       "<table class=\"simpletable\">\n",
       "<tr>\n",
       "       <td></td>         <th>coef</th>     <th>std err</th>      <th>z</th>      <th>P>|z|</th>  <th>[0.025</th>    <th>0.975]</th>  \n",
       "</tr>\n",
       "<tr>\n",
       "  <th>intercept</th>  <td>   -1.9922</td> <td>    0.016</td> <td> -123.457</td> <td> 0.000</td> <td>   -2.024</td> <td>   -1.961</td>\n",
       "</tr>\n",
       "<tr>\n",
       "  <th>ab_page</th>    <td>    0.0108</td> <td>    0.023</td> <td>    0.475</td> <td> 0.635</td> <td>   -0.034</td> <td>    0.056</td>\n",
       "</tr>\n",
       "<tr>\n",
       "  <th>UK</th>         <td>   -0.0118</td> <td>    0.040</td> <td>   -0.296</td> <td> 0.767</td> <td>   -0.090</td> <td>    0.066</td>\n",
       "</tr>\n",
       "<tr>\n",
       "  <th>CA</th>         <td>    0.0057</td> <td>    0.019</td> <td>    0.306</td> <td> 0.760</td> <td>   -0.031</td> <td>    0.043</td>\n",
       "</tr>\n",
       "<tr>\n",
       "  <th>UK_newpage</th> <td>   -0.0783</td> <td>    0.057</td> <td>   -1.378</td> <td> 0.168</td> <td>   -0.190</td> <td>    0.033</td>\n",
       "</tr>\n",
       "<tr>\n",
       "  <th>CA_newpage</th> <td>   -0.0314</td> <td>    0.027</td> <td>   -1.181</td> <td> 0.238</td> <td>   -0.084</td> <td>    0.021</td>\n",
       "</tr>\n",
       "</table>"
      ],
      "text/plain": [
       "<class 'statsmodels.iolib.summary.Summary'>\n",
       "\"\"\"\n",
       "                           Logit Regression Results                           \n",
       "==============================================================================\n",
       "Dep. Variable:              converted   No. Observations:               290584\n",
       "Model:                          Logit   Df Residuals:                   290578\n",
       "Method:                           MLE   Df Model:                            5\n",
       "Date:                Thu, 01 Dec 2022   Pseudo R-squ.:               3.482e-05\n",
       "Time:                        14:23:30   Log-Likelihood:            -1.0639e+05\n",
       "converged:                       True   LL-Null:                   -1.0639e+05\n",
       "Covariance Type:            nonrobust   LLR p-value:                    0.1920\n",
       "==============================================================================\n",
       "                 coef    std err          z      P>|z|      [0.025      0.975]\n",
       "------------------------------------------------------------------------------\n",
       "intercept     -1.9922      0.016   -123.457      0.000      -2.024      -1.961\n",
       "ab_page        0.0108      0.023      0.475      0.635      -0.034       0.056\n",
       "UK            -0.0118      0.040     -0.296      0.767      -0.090       0.066\n",
       "CA             0.0057      0.019      0.306      0.760      -0.031       0.043\n",
       "UK_newpage    -0.0783      0.057     -1.378      0.168      -0.190       0.033\n",
       "CA_newpage    -0.0314      0.027     -1.181      0.238      -0.084       0.021\n",
       "==============================================================================\n",
       "\"\"\""
      ]
     },
     "execution_count": 163,
     "metadata": {},
     "output_type": "execute_result"
    }
   ],
   "source": [
    "### Fit Linear Model And Obtain the Results\n",
    "log_mod3 = sm.Logit(df_new['converted'], df_new[['intercept', 'ab_page', 'UK', 'CA', 'UK_newpage', 'CA_newpage']])\n",
    "results3 = log_mod3.fit()\n",
    "results3.summary()"
   ]
  },
  {
   "cell_type": "markdown",
   "metadata": {},
   "source": [
    "Page and country does not seem to have any significant effects on conversion. The p-values for each variable is 0.635 for ab_page, .767 for UK, 0.760 for CA, 0.168 for UK_newpage, and 0.238 for CA_newpage. Since the values are all greater than .05, we still fail to reject the null hypothesis for any of the variables. This means that the page and country does have a significant effect on conversions. "
   ]
  },
  {
   "cell_type": "markdown",
   "metadata": {},
   "source": [
    "<a id='conclusions'></a>\n",
    "## Conclusions\n",
    "Through this experiement, we wanted to know whether or not we should keep the old page, new page, or continue running the test for a longer duration. We tested whether or not the new treatment page would lead to more conversions with various tests such as hypothesis test and a regression test. A caveat to our testing is that there is missing data in our tests. In the beginning, we dropped inaccurate rows where new page and treatment did not line up. If we had accurate rows for these columns, perhaps we could have gotten a different result. \n",
    "\n",
    "Through the first test of progability, we found that disregarding page, the probability of an individual converting was 11.96%. Given that they were in the control or treatment group, the probability they converted was 12.04% and 11.88% respectively. The amount of users that received either the new page or old page were split about 50-50, making that part of the test unbiased. We tested the null hypothesis of p_old - p_new >= 0 and alternative hypothesis of  p_new - p_old > 0 through A/B testing, but found that the p-values was larger than 0.5 (0.90) and the z-value was less than 1.96. As of such, we failed to reject the null hypothesis and could not conclude the new page lead to more conversions. Finally, we used a regression approach to conduct a two-tailed test. We got a p-value of 0.190 and failed to reject the null hypothesis again, since 0.190 > 0.05. We also added factors such as country to see if they had an effect on conversion, but were unable to conclude that they had any effect. \n",
    "\n",
  {
   "cell_type": "markdown",
   "metadata": {},
   "source": [
    "References:\n",
    "\n",
    ">- https://numpy.org/doc/stable/reference/random/generated/numpy.random.choice.html\n",
    ">- https://www.indeed.com/career-advice/career-development/reject-null-hypothesis\n",
    ">- https://numpy.org/doc/stable/reference/random/generated/numpy.random.binomial.html\n",
    ">- https://www.statsmodels.org/stable/generated/statsmodels.stats.proportion.proportions_ztest.html\n",
    ">- https://stats.oarc.ucla.edu/other/mult-pkg/faq/general/faq-what-are-the-differences-between-one-tailed-and-two-tailed-tests/\n",
    ">- https://statisticsbyjim.com/regression/confounding-variables-bias/#:~:text=Including%20confounding%20variables%20in%20a,relationship%20with%20the%20dependent%20variable"
   ]
  },
  {
   "cell_type": "code",
   "execution_count": null,
   "metadata": {},
   "outputs": [],
   "source": []
  }
 ],
 "metadata": {
  "kernelspec": {
   "display_name": "Python 3 (ipykernel)",
   "language": "python",
   "name": "python3"
  },
  "language_info": {
   "codemirror_mode": {
    "name": "ipython",
    "version": 3
   },
   "file_extension": ".py",
   "mimetype": "text/x-python",
   "name": "python",
   "nbconvert_exporter": "python",
   "pygments_lexer": "ipython3",
   "version": "3.9.13"
  }
 },
 "nbformat": 4,
 "nbformat_minor": 2
}
